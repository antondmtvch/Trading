{
 "cells": [
  {
   "cell_type": "code",
   "execution_count": 1,
   "metadata": {},
   "outputs": [],
   "source": [
    "import os\n",
    "import numpy as np\n",
    "import pandas as pd\n",
    "import ipywidgets as widgets\n",
    "import pandas_datareader as pdr\n",
    "import matplotlib.pyplot as plt\n",
    "\n",
    "from datetime import datetime\n",
    "from IPython.display import display, clear_output"
   ]
  },
  {
   "cell_type": "code",
   "execution_count": 2,
   "metadata": {},
   "outputs": [],
   "source": [
    "os.environ['TIINGO_API_TOKEN'] = ''\n",
    "plt.style.use('classic')"
   ]
  },
  {
   "cell_type": "code",
   "execution_count": 3,
   "metadata": {},
   "outputs": [
    {
     "data": {
      "application/vnd.jupyter.widget-view+json": {
       "model_id": "18dc5f394e7342f8a3b32b9890e7cb90",
       "version_major": 2,
       "version_minor": 0
      },
      "text/plain": [
       "Dropdown(description='Company', options=(('AT&T', 'T'), ('Apple', 'AAPL'), ('Microsoft', 'MSFT'), ('Nvidia', '…"
      ]
     },
     "metadata": {},
     "output_type": "display_data"
    },
    {
     "data": {
      "application/vnd.jupyter.widget-view+json": {
       "model_id": "a759b3ae18f34bdf972371936ba9f05f",
       "version_major": 2,
       "version_minor": 0
      },
      "text/plain": [
       "IntSlider(value=40, description='Fast Mavg', max=50)"
      ]
     },
     "metadata": {},
     "output_type": "display_data"
    },
    {
     "data": {
      "application/vnd.jupyter.widget-view+json": {
       "model_id": "6ad1491a90c1444c912c76550c1afcf1",
       "version_major": 2,
       "version_minor": 0
      },
      "text/plain": [
       "IntSlider(value=100, description='Slow Mavg', max=300)"
      ]
     },
     "metadata": {},
     "output_type": "display_data"
    },
    {
     "data": {
      "application/vnd.jupyter.widget-view+json": {
       "model_id": "7513b3dce3e6443f86235c9857240c0f",
       "version_major": 2,
       "version_minor": 0
      },
      "text/plain": [
       "Button(description='Plot', style=ButtonStyle())"
      ]
     },
     "metadata": {},
     "output_type": "display_data"
    },
    {
     "data": {
      "application/vnd.jupyter.widget-view+json": {
       "model_id": "f90bb88c15fe4b709ffd70cd332944d2",
       "version_major": 2,
       "version_minor": 0
      },
      "text/plain": [
       "VBox(children=(Output(),))"
      ]
     },
     "metadata": {},
     "output_type": "display_data"
    }
   ],
   "source": [
    "ticker_dropdown = widgets.Dropdown(\n",
    "    options=[\n",
    "        ('AT&T', 'T'),\n",
    "        ('Apple', 'AAPL'),\n",
    "        ('Microsoft', 'MSFT'),\n",
    "        ('Nvidia', 'NVDA'),\n",
    "        ('Tesla', 'TSLA')\n",
    "    ],\n",
    "    description='Company'\n",
    ")\n",
    "\n",
    "slow_mavg_slider = widgets.IntSlider(description='Slow Mavg', max=300, value=100)\n",
    "fast_mavg_slider = widgets.IntSlider(description='Fast Mavg', max=50, value=40)\n",
    "\n",
    "button = widgets.Button(description='Plot')\n",
    "output = widgets.Output()\n",
    "\n",
    "display(\n",
    "    ticker_dropdown,\n",
    "    fast_mavg_slider, \n",
    "    slow_mavg_slider,\n",
    "    button\n",
    ")\n",
    "\n",
    "def plot(_):\n",
    "    with output:\n",
    "        clear_output()\n",
    "        data = pdr.get_data_tiingo(ticker_dropdown.value, api_key=os.getenv('TIINGO_API_TOKEN')).droplevel(0)\n",
    "        signals = pd.DataFrame(index=data.index)\n",
    "        signals['signal'] = 0.0\n",
    "\n",
    "        signals['Fast Mavg'] = data.close.rolling(window=fast_mavg_slider.value, min_periods=1, center=False).mean()\n",
    "        signals['Slow Mavg'] = data.close.rolling(window=slow_mavg_slider.value, min_periods=1, center=False).mean()\n",
    "\n",
    "        signals['signal'][fast_mavg_slider.value:] = np.where(\n",
    "            signals['Fast Mavg'][fast_mavg_slider.value:] > signals['Slow Mavg'][fast_mavg_slider.value:], \n",
    "            1.0, 0.0\n",
    "        )\n",
    "\n",
    "        signals['positions'] = signals['signal'].diff()\n",
    "\n",
    "        fig = plt.figure(figsize=(18, 8), dpi=90)\n",
    "\n",
    "        ax = fig.add_subplot(111,  ylabel='Price in $')\n",
    "\n",
    "        data['close'].plot(ax=ax, color='y', lw=2., label=ticker_dropdown.value)\n",
    "\n",
    "        signals[['Fast Mavg', 'Slow Mavg']].plot(ax=ax, lw=2.)\n",
    "\n",
    "        ax.plot(signals.loc[signals.positions == 1.0].index, \n",
    "                signals['Fast Mavg'][signals.positions == 1.0],\n",
    "                '^',\n",
    "                markersize=10, \n",
    "                color='g', \n",
    "                label='Buy')\n",
    "\n",
    "        ax.plot(signals.loc[signals.positions == -1.0].index, \n",
    "                signals['Fast Mavg'][signals.positions == -1.0],\n",
    "                'v', \n",
    "                markersize=10, \n",
    "                color='r', \n",
    "                label='Sell')\n",
    "        \n",
    "        plt.legend(loc='best')\n",
    "        plt.title(f'{ticker_dropdown.label} Close Price')\n",
    "        plt.xlabel('Date')\n",
    "        plt.grid()\n",
    "        plt.show()\n",
    "\n",
    "button.on_click(plot)\n",
    "widgets.VBox([output])"
   ]
  },
  {
   "cell_type": "code",
   "execution_count": null,
   "metadata": {},
   "outputs": [],
   "source": []
  }
 ],
 "metadata": {
  "kernelspec": {
   "display_name": "Python 3",
   "language": "python",
   "name": "python3"
  },
  "language_info": {
   "codemirror_mode": {
    "name": "ipython",
    "version": 3
   },
   "file_extension": ".py",
   "mimetype": "text/x-python",
   "name": "python",
   "nbconvert_exporter": "python",
   "pygments_lexer": "ipython3",
   "version": "3.7.6"
  }
 },
 "nbformat": 4,
 "nbformat_minor": 4
}
